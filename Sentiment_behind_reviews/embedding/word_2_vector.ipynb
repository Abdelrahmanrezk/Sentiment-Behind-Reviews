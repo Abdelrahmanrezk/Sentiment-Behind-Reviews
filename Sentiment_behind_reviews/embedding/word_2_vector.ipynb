{
 "cells": [
  {
   "cell_type": "markdown",
   "metadata": {},
   "source": [
    "# Word Embeddings"
   ]
  },
  {
   "cell_type": "markdown",
   "metadata": {},
   "source": [
    "### Word embeddings are a modern approach for representing text in natural language processing.\n",
    "\n",
    "Word embeddings are a type of word representation that allows words with similar meaning to have a similar representation."
   ]
  },
  {
   "cell_type": "markdown",
   "metadata": {},
   "source": [
    "## Word2Vec\n",
    "\n",
    "#### Word2Vec is a statistical method for efficiently learning a standalone word embedding from a text corpus.\n",
    "\n",
    "word2vec has two main approach which are:\n",
    "- Continuous Bag-of-Words, or CBOW model.\n",
    "- Continuous Skip-Gram Model.\n",
    "\n",
    "The CBOW model learns the embedding by predicting the current word based on its context. The continuous skip-gram model learns by predicting the surrounding words given a current word.\n",
    "<img src=\"../images/Word2Vec-Training-Models.png\" alt=\"Word2Vec-Training-Models\" width=\"600\" height=\"600\">\n"
   ]
  },
  {
   "cell_type": "code",
   "execution_count": 1,
   "metadata": {},
   "outputs": [],
   "source": [
    "# Arabic plot words handle\n",
    "\n",
    "from __future__ import unicode_literals\n",
    "import arabic_reshaper\n",
    "from bidi.algorithm import get_display\n",
    "\n",
    "import os\n",
    "import sys\n",
    "import pymongo\n",
    "import pandas as pd\n",
    "import numpy as np\n",
    "import matplotlib.pyplot as plt\n",
    "from matplotlib import pyplot\n",
    "\n",
    "\n",
    "\n",
    "\n",
    "\n",
    "# splitting data\n",
    "from sklearn.model_selection import train_test_split\n",
    "\n",
    "# Evaluation\n",
    "from sklearn.metrics import confusion_matrix\n",
    "from sklearn.metrics import f1_score\n",
    "\n",
    "# models\n",
    "from sklearn.naive_bayes import MultinomialNB\n",
    "from sklearn.svm import SVC\n",
    "from sklearn.linear_model import LogisticRegression\n",
    "\n",
    "# Features Extraction word2vec\n",
    "from gensim.models import Word2Vec\n",
    "\n",
    "# Dimension reduction\n",
    "from sklearn.decomposition import PCA\n"
   ]
  },
  {
   "cell_type": "markdown",
   "metadata": {},
   "source": [
    "### import cleaning data file because of using some of its function of we need"
   ]
  },
  {
   "cell_type": "code",
   "execution_count": 2,
   "metadata": {},
   "outputs": [
    {
     "name": "stdout",
     "output_type": "stream",
     "text": [
      "Our scraped now are 5777 Product\n",
      "one product Data\n",
      "\n",
      " {'_id': ObjectId('5e48539b980cc3c34837af7f'), 'product_title': 'هاتف ابل ايفون 11 مع فيس تايم بشريحة واحدة وشريحة الكترونية - ذاكرة تخزين 64 جيجا، ذاكرة وصول عشوائية 4 جيجا، شبكة ال تي اي من الجيل الرابع - ارجواني', 'product_url': 'https://egypt.souq.com/eg-ar/%D9%87%D8%A7%D8%AA%D9%81-%D8%A7%D8%A8%D9%84-%D8%A7%D9%8A%D9%81%D9%88%D9%86-11-%D9%85%D8%B9-%D9%81%D9%8A%D8%B3-%D8%AA%D8%A7%D9%8A%D9%85-%D8%A8%D8%B4%D8%B1%D9%8A%D8%AD%D8%A9-%D9%88%D8%A7%D8%AD%D8%AF%D8%A9-%D9%88%D8%B4%D8%B1%D9%8A%D8%AD%D8%A9-%D8%A7%D9%84%D9%83%D8%AA%D8%B1%D9%88%D9%86%D9%8A%D8%A9-%D8%B0%D8%A7%D9%83%D8%B1%D8%A9-%D8%AA%D8%AE%D8%B2%D9%8A%D9%86-64-%D8%AC%D9%8A%D8%AC%D8%A7-%D8%B0%D8%A7%D9%83%D8%B1%D8%A9-%D9%88%D8%B5%D9%88%D9%84-%D8%B9%D8%B4%D9%88%D8%A7%D8%A6%D9%8A%D8%A9-4-%D8%AC%D9%8A%D8%AC%D8%A7-%D8%B4%D8%A8%D9%83%D8%A9-%D8%A7%D9%84-%D8%AA%D9%8A-%D8%A7%D9%8A-%D9%85%D9%86-%D8%A7%D9%84%D8%AC%D9%8A%D9%84-%D8%A7%D9%84%D8%B1%D8%A7%D8%A8%D8%B9-%D8%A7%D8%B1%D8%AC%D9%88%D8%A7%D9%86%D9%8A-68312948/i/', 'image_src': 'https://cf1.s3.souqcdn.com/item/2019/09/12/68/31/29/48/item_L_68312948_63bd51c18418a.jpg', 'product_new_price': 14299.0, 'product_old_price': 0.0, 'product_discount_percentage': 0.0, 'product_discount_value': 0.0, 'product_reviews': ['جهاز رائع', 'ممتاز', 'جهاز ما يحتاج تقييم', 'توصيل سريع وسعر ممتاز', 'السلام عليكم ورحمة الله وبركاته لقد تم إيصال الجوال الايفون ولم تصلني الشريحة الإلكترونية أرجو الإفادة', 'ممتاز والتوصيل مره سريع', 'كل شئ يجنن تغليف ممتاز توصيل سريع سعر رائع شكرا سوق', 'شكرا السعر وربي ببلاش كمان وصل سريع', 'المنتج أصلي وسعره منافس وأقل من التطبيقات الأخرى المنتج أصلي وسعره منافس وأقل من التطبيقات الأخرى المنتج أصلي وسعره منافس وأقل من التطبيقات الأخرى', 'لا يوجد', 'Loved', 'يعطيهم العافيه الجهاز وصل سليم وممتاز', 'ممتاز جدا', 'مطابق للمواصفات و سرعه فى التوصيل', 'مثل ما هو مكتوب والتوصيل في الموعد', 'جميييييل', 'ممتاز والسعر كويس', 'رائع', 'صراحة كنت خايفة يطلع مو اصلي لكن الحمدلله طلع اصلي١٠٠٪\\u061c والسعر منافس جدا', 'جميل', 'ممتاز', 'هاتف جميل وأنيق', 'صراحه جوده فاشله جدا', 'منتج اصلي وتوصيل رائع', 'جميل جدا انصح به', 'ممتاز', 'ممتاز جدا وسرعه بخدمة الشحن', 'شكرا لسوق ع السعر الرايع', 'المنتج اصلي ولا يوجد اي ملاحظات وتم توصيله بسرعة شكراً', 'ممتاز', 'الجهاز معروف والتوصيل في الموعد شكراً لكم', 'السعر كان جداً جميل ، التوصيل سريع', 'perfect and delivered within 1 day', 'Good', 'Just changed from Samsung s9 to this , so good to be an iPhone user, build quality is excellent', 'Original .. Thanks', 'السعر رائع والتوصيل سريع جدا', 'At first I was so worried and suspicious, but once it arrived I checked the serial number and it’s as original as it can be, very good, packaging was well done, and the device is amazing', 'I love it and delivery is too fast', 'وصل تاني يوم من الطلب شكرا سوق'], 'main_feature_of_product': ['2019-09-13', '16.4 centimeters', '512 grams', '190199222397', 'ابل', 'iOS', '64 جيجابايت', 'Dual SIM (nano-SIM and eSIM)', 'هواتف ذكية', '4جي ال تي اي', 'ابل', 'MWLX2AH/A', '2000 - 3000 مللي أمبير_ساعة', 'UPC-A', '190199222397', '2724968977898', '12MP Ultra Wide + 12 MP Wide', '6.1 انش', 'ارجواني', '4 جيجابايت'], 'Uploaded_product': False}\n",
      "First File\n",
      " 156\n",
      "\n",
      "After Expanding two file together\n",
      " 889\n",
      "\n",
      "Remove Dublicated words\n",
      " 661\n",
      "\n",
      "Update the end file manually to remove some of words\n",
      " 525\n",
      "Total Arabic reviews\n",
      " 38695\n",
      "\n",
      "Total English reviews\n",
      " 34166\n",
      "\n",
      "Some of  Arabic reviews\n",
      " ['جهاز ممتاز و تسليم من سوق فوق الممتاز', 'ممتاز شكراً لسوق كوم وللبائع وتوصيل سريع أيضا', 'شيء خرافي', 'ابداع جديد من سامسونج', 'لايوجد']\n",
      "\n",
      "some of English reviews\n",
      " ['I love it', 'soug really doing good service to society | compare to the local market the prices are very less - minimum 5%', 'Faster delivery ,genuine product. ..Cheaper in price as compare to any other online shopping. Must try this seller...Thanks Souq..', 'Genuine Product', 'Nothing']\n",
      "Now Total Arabic reviews\n",
      " 20494\n",
      "\n",
      "Now Total English reviews\n",
      " 18950\n",
      "Now Total Arabic reviews\n",
      " 19870\n",
      "\n",
      "Now Total English reviews\n",
      " 18220\n"
     ]
    }
   ],
   "source": [
    "sys.path.append(os.path.abspath('../scraping_cleaning'))\n",
    "from cleaning_data import *"
   ]
  },
  {
   "cell_type": "markdown",
   "metadata": {},
   "source": [
    "## Read our classified file"
   ]
  },
  {
   "cell_type": "code",
   "execution_count": 3,
   "metadata": {},
   "outputs": [
    {
     "data": {
      "text/html": [
       "<div>\n",
       "<style scoped>\n",
       "    .dataframe tbody tr th:only-of-type {\n",
       "        vertical-align: middle;\n",
       "    }\n",
       "\n",
       "    .dataframe tbody tr th {\n",
       "        vertical-align: top;\n",
       "    }\n",
       "\n",
       "    .dataframe thead th {\n",
       "        text-align: right;\n",
       "    }\n",
       "</style>\n",
       "<table border=\"1\" class=\"dataframe\">\n",
       "  <thead>\n",
       "    <tr style=\"text-align: right;\">\n",
       "      <th></th>\n",
       "      <th>Arabic Reviews</th>\n",
       "      <th>polarity</th>\n",
       "    </tr>\n",
       "  </thead>\n",
       "  <tbody>\n",
       "    <tr>\n",
       "      <td>0</td>\n",
       "      <td>ممتاز صراح مريح خاصت في خرج لي من غير عرب</td>\n",
       "      <td>1</td>\n",
       "    </tr>\n",
       "    <tr>\n",
       "      <td>1</td>\n",
       "      <td>عمل</td>\n",
       "      <td>1</td>\n",
       "    </tr>\n",
       "    <tr>\n",
       "      <td>2</td>\n",
       "      <td>جيد وع</td>\n",
       "      <td>0</td>\n",
       "    </tr>\n",
       "    <tr>\n",
       "      <td>3</td>\n",
       "      <td>حل</td>\n",
       "      <td>1</td>\n",
       "    </tr>\n",
       "    <tr>\n",
       "      <td>4</td>\n",
       "      <td>سرير او محجر كما سمي ممتاز وم عب امان خاص اطفا...</td>\n",
       "      <td>1</td>\n",
       "    </tr>\n",
       "  </tbody>\n",
       "</table>\n",
       "</div>"
      ],
      "text/plain": [
       "                                      Arabic Reviews polarity\n",
       "0         ممتاز صراح مريح خاصت في خرج لي من غير عرب         1\n",
       "1                                               عمل         1\n",
       "2                                            جيد وع         0\n",
       "3                                                حل         1\n",
       "4  سرير او محجر كما سمي ممتاز وم عب امان خاص اطفا...        1"
      ]
     },
     "execution_count": 3,
     "metadata": {},
     "output_type": "execute_result"
    }
   ],
   "source": [
    "df = pd.read_csv('../csv_files/file_classified_reviews_updated.csv')\n",
    "df = df.astype(str)\n",
    "df.head()\n"
   ]
  },
  {
   "cell_type": "code",
   "execution_count": 4,
   "metadata": {},
   "outputs": [
    {
     "name": "stdout",
     "output_type": "stream",
     "text": [
      "The number of reviews in our data set is:  6057\n"
     ]
    }
   ],
   "source": [
    "print(\"The number of reviews in our data set is: \", len(df))"
   ]
  },
  {
   "cell_type": "markdown",
   "metadata": {},
   "source": [
    "**Shuffle the data**"
   ]
  },
  {
   "cell_type": "code",
   "execution_count": 5,
   "metadata": {},
   "outputs": [],
   "source": [
    "df = df.sample(frac=1).reset_index(drop=True)"
   ]
  },
  {
   "cell_type": "code",
   "execution_count": 6,
   "metadata": {},
   "outputs": [],
   "source": [
    "X_train = df.loc[:5000,'Arabic Reviews'].values\n",
    "y_train = df.loc[:5000,'polarity'].values\n",
    "X_test = df.loc[5001:,'Arabic Reviews'].values\n",
    "y_test = df.loc[5001:,'polarity'].values"
   ]
  },
  {
   "cell_type": "code",
   "execution_count": 7,
   "metadata": {},
   "outputs": [],
   "source": [
    "text_list = df.loc[:,'Arabic Reviews'].values"
   ]
  },
  {
   "cell_type": "code",
   "execution_count": 8,
   "metadata": {},
   "outputs": [],
   "source": [
    "text_list = list(text_list)"
   ]
  },
  {
   "cell_type": "markdown",
   "metadata": {},
   "source": [
    "### get The maximum length of greatest string of our reviews"
   ]
  },
  {
   "cell_type": "code",
   "execution_count": 9,
   "metadata": {},
   "outputs": [
    {
     "name": "stdout",
     "output_type": "stream",
     "text": [
      "The greatest string of our reviews:  206\n"
     ]
    }
   ],
   "source": [
    "max_len_str = max([len(i.split()) for i in text_list])\n",
    "\n",
    "print(\"The greatest string of our reviews: \", max_len_str)"
   ]
  },
  {
   "cell_type": "code",
   "execution_count": 10,
   "metadata": {},
   "outputs": [
    {
     "name": "stdout",
     "output_type": "stream",
     "text": [
      "The firt 5 reviews are:  [['جراب', 'راءع', 'شكل', 'مميز', 'لكن', 'زيد', 'من', 'سمك', 'كل', 'وزن', 'كل', 'موبايل'], ['منتج', 'جيد', 'سعر', 'مناسب', 'جد', 'مطابق', 'مواصف', 'حسب', 'اعل', 'زم', 'تسليم', 'قياس'], ['ول', 'تجاوب', 'سرعه', 'في', 'عمل', 'شراء'], ['جهاز', 'تجرب', 'على', 'حال', 'مرض', 'سكر', 'عا', 'من', 'ام', 'قدم', 'كان', 'مناسب', 'خفيف', 'الم', 'ستخدم', 'طريقه', 'صحيحه', 'ضا', 'من', 'لدى', 'الم', 'سبب', 'تشقق', 'قدم', 'لا', 'عالج', 'تشقق', 'نم', 'خفف', 'الم', 'ناتج', 'عن', 'تلك', 'تشقق', 'اثناء', 'سير', 'او', 'عمل', 'منزل'], ['ايجاب', 'سلب', 'مساح', 'بخار', 'تش', 'تو', 'او', '5']]\n"
     ]
    }
   ],
   "source": [
    "text_list = [i.split() for i in text_list] # split each review to list of words\n",
    "print(\"The firt 5 reviews are: \", text_list[:5])"
   ]
  },
  {
   "cell_type": "markdown",
   "metadata": {},
   "source": [
    "###  our word 2 vec \n",
    "- size = extract 50 features for each word\n",
    "- window = 7 take the context of neighbour words\n",
    "- min_count = 1 consider each word that even repeated 1 time"
   ]
  },
  {
   "cell_type": "code",
   "execution_count": 11,
   "metadata": {},
   "outputs": [],
   "source": [
    "number_of_features = 50\n",
    "window_size = 7\n",
    "min_words_count = 1"
   ]
  },
  {
   "cell_type": "code",
   "execution_count": 19,
   "metadata": {},
   "outputs": [],
   "source": [
    "def word_to_vec(text_list, number_of_features, window_size, min_words_count):\n",
    "    '''\n",
    "    Argument:\n",
    "        list of strings and each string is list of words\n",
    "        size = extract 50 features for each word\n",
    "        window = 7 take the context of neighbour words\n",
    "        min_count = 1 consider each word that even repeated 1 time\n",
    "    return:\n",
    "        the word2vec model\n",
    "    '''\n",
    "    word_to_vec_model = Word2Vec(text_list, size =number_of_features, window = window_size, min_count=min_words_count, sg = 1) \n",
    "    print(\"Our word2vec model: \", word_to_vec_model)\n",
    "    print(\"The number of frequent words of our data: \", len(word_to_vec_model.wv.vocab)) # the frequent words\n",
    "    # save model\n",
    "    word_to_vec_model.save('models_saved/word_to_vec_model.bin')\n",
    "\n",
    "    # load model\n",
    "    word_to_vec_model = Word2Vec.load('models_saved/word_to_vec_model.bin')\n",
    "    return word_to_vec_model"
   ]
  },
  {
   "cell_type": "code",
   "execution_count": 20,
   "metadata": {},
   "outputs": [
    {
     "name": "stdout",
     "output_type": "stream",
     "text": [
      "Our word2vec model:  Word2Vec(vocab=5487, size=50, alpha=0.025)\n",
      "The number of frequent words of our data:  5487\n"
     ]
    }
   ],
   "source": [
    "word_to_vec_model = word_to_vec(text_list, number_of_features, window_size, min_words_count)"
   ]
  },
  {
   "cell_type": "code",
   "execution_count": 21,
   "metadata": {},
   "outputs": [
    {
     "name": "stdout",
     "output_type": "stream",
     "text": [
      "Feature of some words\n",
      " [-0.02766156 -0.6760112  -0.48738003 -0.17621489  0.40082735  0.02653749\n",
      " -0.32580742 -0.54336095  0.6088528  -0.08125173  0.38140836 -0.18944035\n",
      "  0.1610975   0.11766335 -0.097762   -0.04459966 -0.46242872 -0.3906263\n",
      "  0.6099228  -0.65180224  0.15633187  0.5074659  -0.52477944 -0.17418385\n",
      "  0.51674265  0.01460779  0.02042623 -0.4664853   0.03495372  0.14726606\n",
      "  0.7373101   0.38452327  0.12166482  0.03323374  0.02718482 -0.08137503\n",
      "  0.01558152  0.29796362  0.3718161   0.11773174  0.08418586 -0.1802989\n",
      "  0.05822263 -0.15554442 -0.2921819   0.14238237  0.35549334  0.01166103\n",
      "  0.29896787 -0.52994025]\n"
     ]
    },
    {
     "name": "stderr",
     "output_type": "stream",
     "text": [
      "/home/abdelrahman/anaconda3/lib/python3.7/site-packages/ipykernel_launcher.py:1: DeprecationWarning: Call to deprecated `__getitem__` (Method will be removed in 4.0.0, use self.wv.__getitem__() instead).\n",
      "  \"\"\"Entry point for launching an IPython kernel.\n"
     ]
    }
   ],
   "source": [
    "print(\"Feature of some words\\n\", word_to_vec_model['ممتاز'])"
   ]
  },
  {
   "cell_type": "markdown",
   "metadata": {},
   "source": [
    "### display the data using  PCA"
   ]
  },
  {
   "cell_type": "code",
   "execution_count": 22,
   "metadata": {},
   "outputs": [
    {
     "name": "stderr",
     "output_type": "stream",
     "text": [
      "/home/abdelrahman/anaconda3/lib/python3.7/site-packages/ipykernel_launcher.py:8: DeprecationWarning: Call to deprecated `__getitem__` (Method will be removed in 4.0.0, use self.wv.__getitem__() instead).\n",
      "  \n"
     ]
    },
    {
     "name": "stdout",
     "output_type": "stream",
     "text": [
      "The shape of our word_features is: (100, 50)\n"
     ]
    },
    {
     "name": "stderr",
     "output_type": "stream",
     "text": [
      "/home/abdelrahman/anaconda3/lib/python3.7/site-packages/matplotlib/backends/backend_agg.py:211: RuntimeWarning: Glyph 65010 missing from current font.\n",
      "  font.set_text(s, 0.0, flags=flags)\n",
      "/home/abdelrahman/anaconda3/lib/python3.7/site-packages/matplotlib/backends/backend_agg.py:180: RuntimeWarning: Glyph 65010 missing from current font.\n",
      "  font.set_text(s, 0, flags=flags)\n"
     ]
    },
    {
     "data": {
      "image/png": "[encoded data removed]",
      "text/plain": [
       "<Figure size 576x576 with 1 Axes>"
      ]
     },
     "metadata": {},
     "output_type": "display_data"
    }
   ],
   "source": [
    " # retrieve frequent words\n",
    "words = list(word_to_vec_model.wv.vocab)\n",
    "\n",
    "# I took just 100 words to present with PCA\n",
    "words = words[:100]\n",
    "\n",
    "# get the features of those 100 word\n",
    "word_features = word_to_vec_model[words] \n",
    "\n",
    "# it will be 100 word * 50 which 50 feature of each word\n",
    "print(\"The shape of our word_features is:\", word_features.shape)\n",
    "\n",
    "# Dimension reduction to display so instead of 50 dimension of each word \n",
    "#reduce to 2 dimensional that have fine display\n",
    "# from 50 features to just 2 features for displaying how words related words to gether\n",
    "pca = PCA(n_components=2)\n",
    "\n",
    "# fit the model\n",
    "xy_words = pca.fit_transform(word_features)\n",
    "\n",
    "# set the visualization plot\n",
    "plt.style.use(['dark_background'])\n",
    "plt.figure(figsize=(8,8))\n",
    "\n",
    "# after reduction for all features in first column as x and all features from second column as y\n",
    "plt.scatter(xy_words[:, 0], xy_words[:, 1], marker='P',s=100, c=\"red\") \n",
    "\n",
    "for i, word in enumerate(words):\n",
    "    # handle Arabic words to display from right to left and as complete word not just separate chars\n",
    "    word = arabic_reshaper.reshape(word) # handle arabic words on ploting\n",
    "    word = get_display(word)\n",
    "    # plot each word beside its point\n",
    "    plt.annotate(word, xy=(xy_words[i, 0], xy_words[i, 1]))\n",
    "plt.show()"
   ]
  },
  {
   "cell_type": "markdown",
   "metadata": {},
   "source": [
    "### handle the padding and fill small string with zeros\n",
    "\n",
    "- intilize zero matrix with\n",
    "- shape with all of reviews as n rows and columns of number_of_features you make * with largest string length of you data\n",
    "- for each review:\n",
    "    - retrieve the features of the words it contain\n",
    "    - initialize zeros as padding for small strings\n",
    "    - apply the padding for small strings \n",
    "    - append to embedding_matrix"
   ]
  },
  {
   "cell_type": "code",
   "execution_count": 26,
   "metadata": {},
   "outputs": [],
   "source": [
    "def word_2_vec_matrix(text_list,word_to_vec_model,number_of_features, max_len_str):\n",
    "    '''\n",
    "    Argument:\n",
    "            List of string each of them is list of words\n",
    "            the word_to_vec_model model\n",
    "            number of features you apply to word2vec model\n",
    "            number of words of greatest string in your reviews\n",
    "    return:\n",
    "        embedding matrix that can apply to machine learning algorithms\n",
    "    '''\n",
    "    embedding_matrix = np.zeros((len(text_list), number_of_features*max_len_str)) # largest sentence and 5 fetures\n",
    "    print(\"The shape of matrix\", embedding_matrix.shape)\n",
    "#loop over each review\n",
    "    for index,review in enumerate(text_list):\n",
    "# list of each reviw which will be appended to embedding matrix\n",
    "        one_sentence_list = [] \n",
    "        for word in review:\n",
    "            word = word_to_vec_model[word]\n",
    "            one_sentence_list.extend(word)\n",
    "            \n",
    "# make padding for small strings\n",
    "        zero_pad = np.zeros(number_of_features*max_len_str-len(one_sentence_list))\n",
    "        zero_pad = list(zero_pad)\n",
    "    \n",
    "# apply the padding\n",
    "        one_sentence_list.extend(zero_pad)\n",
    "        embedding_matrix[index] = one_sentence_list\n",
    "    return embedding_matrix"
   ]
  },
  {
   "cell_type": "code",
   "execution_count": 27,
   "metadata": {},
   "outputs": [
    {
     "name": "stdout",
     "output_type": "stream",
     "text": [
      "The shape of matrix (6057, 10300)\n"
     ]
    },
    {
     "name": "stderr",
     "output_type": "stream",
     "text": [
      "/home/abdelrahman/anaconda3/lib/python3.7/site-packages/ipykernel_launcher.py:18: DeprecationWarning: Call to deprecated `__getitem__` (Method will be removed in 4.0.0, use self.wv.__getitem__() instead).\n"
     ]
    }
   ],
   "source": [
    "embedding_matrix = word_2_vec_matrix(text_list,word_to_vec_model, number_of_features, max_len_str)"
   ]
  },
  {
   "cell_type": "code",
   "execution_count": 28,
   "metadata": {},
   "outputs": [],
   "source": [
    "y = df['polarity'] # labels of our dataset"
   ]
  },
  {
   "cell_type": "markdown",
   "metadata": {},
   "source": [
    "## split the data to train and testing "
   ]
  },
  {
   "cell_type": "code",
   "execution_count": 29,
   "metadata": {},
   "outputs": [],
   "source": [
    "X_train, X_test, y_train, y_test = train_test_split(embedding_matrix, y, test_size=.1)"
   ]
  },
  {
   "cell_type": "code",
   "execution_count": 30,
   "metadata": {},
   "outputs": [
    {
     "data": {
      "text/plain": [
       "(5451, 10300)"
      ]
     },
     "execution_count": 30,
     "metadata": {},
     "output_type": "execute_result"
    }
   ],
   "source": [
    "X_train.shape"
   ]
  },
  {
   "cell_type": "code",
   "execution_count": 50,
   "metadata": {},
   "outputs": [],
   "source": [
    "clf_LogisticRegression = LogisticRegression(penalty='l2', tol=0.00001, solver='liblinear',max_iter=1000)"
   ]
  },
  {
   "cell_type": "code",
   "execution_count": 51,
   "metadata": {},
   "outputs": [],
   "source": [
    "logistic_model = clf_LogisticRegression.fit(X_train, y_train)"
   ]
  },
  {
   "cell_type": "code",
   "execution_count": 52,
   "metadata": {},
   "outputs": [],
   "source": [
    "predict = logistic_model.predict(X_train)"
   ]
  },
  {
   "cell_type": "code",
   "execution_count": 53,
   "metadata": {},
   "outputs": [
    {
     "name": "stdout",
     "output_type": "stream",
     "text": [
      "F1 score of our testing data is:  0.8481012658227848\n"
     ]
    }
   ],
   "source": [
    "print(\"F1 score of our testing data is: \", f1_score(y_train, predict, average='micro'))"
   ]
  },
  {
   "cell_type": "code",
   "execution_count": 54,
   "metadata": {},
   "outputs": [
    {
     "name": "stdout",
     "output_type": "stream",
     "text": [
      "Evalution Matrix of training data is \n",
      " [[ 331  715]\n",
      " [ 113 4292]]\n"
     ]
    }
   ],
   "source": [
    "print(\"Evalution Matrix of training data is \\n\", confusion_matrix(y_train, predict))"
   ]
  },
  {
   "cell_type": "code",
   "execution_count": 55,
   "metadata": {},
   "outputs": [],
   "source": [
    "predict = logistic_model.predict(X_test)"
   ]
  },
  {
   "cell_type": "code",
   "execution_count": 56,
   "metadata": {},
   "outputs": [
    {
     "name": "stdout",
     "output_type": "stream",
     "text": [
      "F1 score of our testing data is:  0.8366336633663366\n"
     ]
    }
   ],
   "source": [
    "print(\"F1 score of our testing data is: \", f1_score(y_test, predict, average='micro'))"
   ]
  },
  {
   "cell_type": "code",
   "execution_count": 57,
   "metadata": {},
   "outputs": [
    {
     "name": "stdout",
     "output_type": "stream",
     "text": [
      "Evalution Matrix of testing data is \n",
      " [[ 23  85]\n",
      " [ 14 484]]\n"
     ]
    }
   ],
   "source": [
    "print(\"Evalution Matrix of testing data is \\n\", confusion_matrix(y_test, predict))"
   ]
  },
  {
   "cell_type": "code",
   "execution_count": 62,
   "metadata": {},
   "outputs": [],
   "source": [
    "clf_SVC = SVC(kernel='linear')"
   ]
  },
  {
   "cell_type": "code",
   "execution_count": 63,
   "metadata": {},
   "outputs": [],
   "source": [
    "svc_model = clf_SVC.fit(X_train, y_train)"
   ]
  },
  {
   "cell_type": "code",
   "execution_count": 64,
   "metadata": {},
   "outputs": [],
   "source": [
    "predict = svc_model.predict(X_train)"
   ]
  },
  {
   "cell_type": "code",
   "execution_count": 65,
   "metadata": {},
   "outputs": [
    {
     "name": "stdout",
     "output_type": "stream",
     "text": [
      "F1 score of our testing data is:  0.8488350761328197\n"
     ]
    }
   ],
   "source": [
    "print(\"F1 score of our traing data is: \", f1_score(y_train, predict, average='micro'))"
   ]
  },
  {
   "cell_type": "code",
   "execution_count": 66,
   "metadata": {},
   "outputs": [
    {
     "name": "stdout",
     "output_type": "stream",
     "text": [
      "Evalution Matrix of training data is \n",
      " [[ 263  783]\n",
      " [  41 4364]]\n"
     ]
    }
   ],
   "source": [
    "print(\"Evalution Matrix of training data is \\n\", confusion_matrix(y_train, predict))"
   ]
  },
  {
   "cell_type": "code",
   "execution_count": 67,
   "metadata": {},
   "outputs": [],
   "source": [
    "predict = svc_model.predict(X_test)"
   ]
  },
  {
   "cell_type": "code",
   "execution_count": 68,
   "metadata": {},
   "outputs": [
    {
     "name": "stdout",
     "output_type": "stream",
     "text": [
      "F1 score of our testing data is:  0.8316831683168316\n"
     ]
    }
   ],
   "source": [
    "print(\"F1 score of our testing data is: \", f1_score(y_test, predict, average='micro'))"
   ]
  },
  {
   "cell_type": "code",
   "execution_count": 69,
   "metadata": {},
   "outputs": [
    {
     "name": "stdout",
     "output_type": "stream",
     "text": [
      "Evalution Matrix of testing data is \n",
      " [[ 21  87]\n",
      " [ 15 483]]\n"
     ]
    }
   ],
   "source": [
    "print(\"Evalution Matrix of testing data is \\n\", confusion_matrix(y_test, predict))"
   ]
  },
  {
   "cell_type": "code",
   "execution_count": null,
   "metadata": {},
   "outputs": [],
   "source": []
  }
 ],
 "metadata": {
  "kernelspec": {
   "display_name": "Python 3",
   "language": "python",
   "name": "python3"
  },
  "language_info": {
   "codemirror_mode": {
    "name": "ipython",
    "version": 3
   },
   "file_extension": ".py",
   "mimetype": "text/x-python",
   "name": "python",
   "nbconvert_exporter": "python",
   "pygments_lexer": "ipython3",
   "version": "3.7.4"
  }
 },
 "nbformat": 4,
 "nbformat_minor": 2
}
